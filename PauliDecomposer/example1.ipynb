{
 "cells": [
  {
   "cell_type": "markdown",
   "source": [
    "# PauliDecomposer - example 1\r\n",
    "Decompose a simple entanglement witness into local measurements."
   ],
   "metadata": {}
  },
  {
   "cell_type": "code",
   "execution_count": 22,
   "source": [
    "import numpy as np\r\n",
    "import KetSugar as ks\r\n",
    "import PauliDecomposer as pd"
   ],
   "outputs": [],
   "metadata": {}
  },
  {
   "cell_type": "code",
   "execution_count": 34,
   "source": [
    "#Bell state witness\r\n",
    "bell_ket = (ks.BinKet(0b01, 3) - ks.BinKet(0b10, 3))*(0.5**0.5)\r\n",
    "bell_rho = ks.ketbra(bell_ket, bell_ket)\r\n",
    "\r\n",
    "witness = np.eye(4)/2 - bell_rho\r\n",
    "print(np.round(witness,3))\r\n",
    "print(np.trace(bell_rho @ witness))"
   ],
   "outputs": [
    {
     "output_type": "stream",
     "name": "stdout",
     "text": [
      "[[ 0.5+0.j  0. +0.j  0. +0.j  0. +0.j]\n",
      " [ 0. +0.j -0. +0.j  0.5+0.j  0. +0.j]\n",
      " [ 0. +0.j  0.5+0.j -0. +0.j  0. +0.j]\n",
      " [ 0. +0.j  0. +0.j  0. +0.j  0.5+0.j]]\n",
      "(-0.5000000000000003+0j)\n"
     ]
    }
   ],
   "metadata": {}
  },
  {
   "cell_type": "code",
   "execution_count": 24,
   "source": [
    "eye2 = np.eye(2) #identity matrix ... computational basis vector definition\r\n",
    "decomposition = pd.decompose_operator_into_gen_pauli(witness, eye2, eye2)\r\n",
    "#list coefficients\r\n",
    "for i, (w_i, G_i) in enumerate(decomposition):\r\n",
    "    print(i, pd.base10_to_base4(i,2), np.round(w_i,3))"
   ],
   "outputs": [
    {
     "output_type": "stream",
     "name": "stdout",
     "text": [
      "0 [0, 0] (1+0j)\n",
      "1 [0, 1] 0j\n",
      "2 [0, 2] 0j\n",
      "3 [0, 3] 0j\n",
      "4 [1, 0] 0j\n",
      "5 [1, 1] (1+0j)\n",
      "6 [1, 2] 0j\n",
      "7 [1, 3] 0j\n",
      "8 [2, 0] 0j\n",
      "9 [2, 1] 0j\n",
      "10 [2, 2] (1+0j)\n",
      "11 [2, 3] 0j\n",
      "12 [3, 0] 0j\n",
      "13 [3, 1] 0j\n",
      "14 [3, 2] 0j\n",
      "15 [3, 3] (1+0j)\n"
     ]
    }
   ],
   "metadata": {}
  },
  {
   "cell_type": "code",
   "execution_count": 25,
   "source": [
    "#check validity\r\n",
    "witness_check1 = np.zeros_like(witness)\r\n",
    "norm = 2**(-2) #(1/2)^n ... where n is number of qubits\r\n",
    "for w_i, G_i in decomposition:\r\n",
    "    witness_check1 += norm*w_i*G_i\r\n",
    "\r\n",
    "print(np.round(witness_check1,3))\r\n",
    "print(\"Difference: \", np.sum(witness_check1 - witness))"
   ],
   "outputs": [
    {
     "output_type": "stream",
     "name": "stdout",
     "text": [
      "[[ 0.5+0.j  0. +0.j  0. +0.j  0. +0.j]\n",
      " [ 0. +0.j -0. +0.j  0.5+0.j  0. +0.j]\n",
      " [ 0. +0.j  0.5+0.j -0. +0.j  0. +0.j]\n",
      " [ 0. +0.j  0. +0.j  0. +0.j  0.5+0.j]]\n",
      "Difference:  (8.881784197001252e-16+0j)\n"
     ]
    }
   ],
   "metadata": {}
  },
  {
   "cell_type": "code",
   "execution_count": 29,
   "source": [
    "#Find decomposition into projectors\r\n",
    "coefficients = pd.decompose_operator_into_projectors(witness, eye2, eye2)\r\n",
    "proj_operators = pd.spawn_generalized_pauli_projectors(eye2, eye2)\r\n",
    "#check validity\r\n",
    "witness_check_2 = pd.compose_operator_from_proj_weights(coefficients, proj_operators)\r\n",
    "print(\"Difference:\", np.sum(witness_check_2 - witness))\r\n",
    "#list coefficients\r\n",
    "for i, w_i in enumerate(coefficients):\r\n",
    "    print(i, pd.base10_to_base6(i, 2), np.round(w_i.real, 3))"
   ],
   "outputs": [
    {
     "output_type": "stream",
     "name": "stdout",
     "text": [
      "Difference: (9.43689570931383e-16+0j)\n",
      "0 [0, 0] 0.5\n",
      "1 [0, 1] -0.0\n",
      "2 [0, 2] 0.0\n",
      "3 [0, 3] 0.0\n",
      "4 [0, 4] 0.0\n",
      "5 [0, 5] 0.0\n",
      "6 [1, 0] -0.0\n",
      "7 [1, 1] 0.5\n",
      "8 [1, 2] 0.0\n",
      "9 [1, 3] 0.0\n",
      "10 [1, 4] 0.0\n",
      "11 [1, 5] 0.0\n",
      "12 [2, 0] 0.0\n",
      "13 [2, 1] 0.0\n",
      "14 [2, 2] 0.25\n",
      "15 [2, 3] -0.25\n",
      "16 [2, 4] 0.0\n",
      "17 [2, 5] 0.0\n",
      "18 [3, 0] 0.0\n",
      "19 [3, 1] 0.0\n",
      "20 [3, 2] -0.25\n",
      "21 [3, 3] 0.25\n",
      "22 [3, 4] 0.0\n",
      "23 [3, 5] 0.0\n",
      "24 [4, 0] 0.0\n",
      "25 [4, 1] 0.0\n",
      "26 [4, 2] 0.0\n",
      "27 [4, 3] 0.0\n",
      "28 [4, 4] 0.25\n",
      "29 [4, 5] -0.25\n",
      "30 [5, 0] 0.0\n",
      "31 [5, 1] 0.0\n",
      "32 [5, 2] 0.0\n",
      "33 [5, 3] 0.0\n",
      "34 [5, 4] -0.25\n",
      "35 [5, 5] 0.25\n"
     ]
    }
   ],
   "metadata": {}
  }
 ],
 "metadata": {
  "orig_nbformat": 4,
  "language_info": {
   "name": "python",
   "version": "3.7.1",
   "mimetype": "text/x-python",
   "codemirror_mode": {
    "name": "ipython",
    "version": 3
   },
   "pygments_lexer": "ipython3",
   "nbconvert_exporter": "python",
   "file_extension": ".py"
  },
  "kernelspec": {
   "name": "python3",
   "display_name": "Python 3.7.1 64-bit ('base': conda)"
  },
  "interpreter": {
   "hash": "9edc0e85da01f36cb21954a38b5a549841b5633a9a4527f1fb430ae3c8ff1be1"
  }
 },
 "nbformat": 4,
 "nbformat_minor": 2
}