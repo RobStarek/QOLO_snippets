{
 "cells": [
  {
   "cell_type": "markdown",
   "source": [
    "# PauliDecomposer - example 2\r\n",
    "Decompose a slightly complicated entanglement witness into local measurements.\r\n",
    "The witness matrix is no long a nice sparse matrix due to the rotation of its basis.\r\n",
    "Optimized decomposer tries to find the eigenbasis to reduce the number of projections by\r\n",
    "measuring in the eigenbasis of the witness operator."
   ],
   "metadata": {}
  },
  {
   "cell_type": "code",
   "execution_count": 1,
   "source": [
    "import numpy as np\r\n",
    "import KetSugar as ks\r\n",
    "import PauliDecomposer as pd"
   ],
   "outputs": [],
   "metadata": {}
  },
  {
   "cell_type": "code",
   "execution_count": 2,
   "source": [
    "#Bell state witness\r\n",
    "base1_low = ks.BlochKet(np.pi/8, np.pi/8)\r\n",
    "base1_high = ks.BlochKet(np.pi-np.pi/8, np.pi/8+np.pi)\r\n",
    "base2_low = ks.BlochKet(np.pi/16, -np.pi/3)\r\n",
    "base2_high = ks.BlochKet(np.pi-np.pi/16, -np.pi/3+np.pi)\r\n",
    "\r\n",
    "bell_ket = (np.kron(base1_low, base2_high) + np.kron(base1_high, base2_low))*(0.5**.5)\r\n",
    "bell_rho = ks.ketbra(bell_ket, bell_ket)\r\n",
    "\r\n",
    "witness = np.eye(4)/2 - bell_rho\r\n",
    "print(np.round(witness,3))\r\n",
    "print(np.trace(bell_rho @ witness))"
   ],
   "outputs": [
    {
     "output_type": "stream",
     "name": "stdout",
     "text": [
      "[[ 0.458+0.j     0.069+0.12j   0.128-0.053j  0.033+0.026j]\n",
      " [ 0.069-0.12j   0.042+0.j    -0.06 +0.454j -0.128+0.053j]\n",
      " [ 0.128+0.053j -0.06 -0.454j  0.042+0.j    -0.069-0.12j ]\n",
      " [ 0.033-0.026j -0.128-0.053j -0.069+0.12j   0.458+0.j   ]]\n",
      "(-0.5000000000000002+1.474514954580286e-17j)\n"
     ]
    }
   ],
   "metadata": {}
  },
  {
   "cell_type": "code",
   "execution_count": 3,
   "source": [
    "eye2 = np.eye(2) #identity matrix ... computational basis vector definition\r\n",
    "decomposition = pd.decompose_operator_into_gen_pauli(witness, eye2, eye2)\r\n",
    "#list coefficients\r\n",
    "for i, (w_i, G_i) in enumerate(decomposition):\r\n",
    "    print(i, pd.base10_to_base4(i,2), np.round(w_i,3))"
   ],
   "outputs": [
    {
     "output_type": "stream",
     "name": "stdout",
     "text": [
      "0 [0, 0] (1+0j)\n",
      "1 [0, 1] (-0+0j)\n",
      "2 [0, 2] 0j\n",
      "3 [0, 3] (-0+0j)\n",
      "4 [1, 0] (-0-0j)\n",
      "5 [1, 1] (0.831-0j)\n",
      "6 [1, 2] (0.278+0j)\n",
      "7 [1, 3] (-0.481+0j)\n",
      "8 [2, 0] 0j\n",
      "9 [2, 1] (0.513-0j)\n",
      "10 [2, 2] (-0.053+0j)\n",
      "11 [2, 3] (0.857+0j)\n",
      "12 [3, 0] 0j\n",
      "13 [3, 1] (0.213+0j)\n",
      "14 [3, 2] (-0.959+0j)\n",
      "15 [3, 3] (-0.186+0j)\n"
     ]
    }
   ],
   "metadata": {}
  },
  {
   "cell_type": "code",
   "execution_count": 4,
   "source": [
    "#check validity\r\n",
    "witness_check1 = np.zeros_like(witness)\r\n",
    "norm = 2**(-2) #(1/2)^n ... where n is number of qubits\r\n",
    "for w_i, G_i in decomposition:\r\n",
    "    witness_check1 += norm*w_i*G_i\r\n",
    "\r\n",
    "print(np.round(witness_check1,3))\r\n",
    "print(\"Difference: \", np.sum(witness_check1 - witness))"
   ],
   "outputs": [
    {
     "output_type": "stream",
     "name": "stdout",
     "text": [
      "[[ 0.458+0.j     0.069+0.12j   0.128-0.053j  0.033+0.026j]\n",
      " [ 0.069-0.12j   0.042+0.j    -0.06 +0.454j -0.128+0.053j]\n",
      " [ 0.128+0.053j -0.06 -0.454j  0.042+0.j    -0.069-0.12j ]\n",
      " [ 0.033-0.026j -0.128-0.053j -0.069+0.12j   0.458+0.j   ]]\n",
      "Difference:  (-6.938893903907228e-17+0j)\n"
     ]
    }
   ],
   "metadata": {}
  },
  {
   "cell_type": "code",
   "execution_count": 5,
   "source": [
    "#Find decomposition into projectors\r\n",
    "coefficients = pd.decompose_operator_into_projectors(witness, eye2, eye2)\r\n",
    "proj_operators = pd.spawn_generalized_pauli_projectors(eye2, eye2)\r\n",
    "#check validity\r\n",
    "witness_check_2 = pd.compose_operator_from_proj_weights(coefficients, proj_operators)\r\n",
    "print(\"Difference:\", np.sum(witness_check_2 - witness))\r\n",
    "#list coefficients\r\n",
    "for i, w_i in enumerate(coefficients):\r\n",
    "    print(i, pd.base10_to_base6(i, 2), np.round(w_i.real, 3))"
   ],
   "outputs": [
    {
     "output_type": "stream",
     "name": "stdout",
     "text": [
      "Difference: -6.938893903907228e-18j\n",
      "0 [0, 0] 0.458\n",
      "1 [0, 1] 0.042\n",
      "2 [0, 2] 0.069\n",
      "3 [0, 3] -0.069\n",
      "4 [0, 4] -0.12\n",
      "5 [0, 5] 0.12\n",
      "6 [1, 0] 0.042\n",
      "7 [1, 1] 0.458\n",
      "8 [1, 2] -0.069\n",
      "9 [1, 3] 0.069\n",
      "10 [1, 4] 0.12\n",
      "11 [1, 5] -0.12\n",
      "12 [2, 0] 0.128\n",
      "13 [2, 1] -0.128\n",
      "14 [2, 2] -0.013\n",
      "15 [2, 3] 0.013\n",
      "16 [2, 4] 0.214\n",
      "17 [2, 5] -0.214\n",
      "18 [3, 0] -0.128\n",
      "19 [3, 1] 0.128\n",
      "20 [3, 2] 0.013\n",
      "21 [3, 3] -0.013\n",
      "22 [3, 4] -0.214\n",
      "23 [3, 5] 0.214\n",
      "24 [4, 0] 0.053\n",
      "25 [4, 1] -0.053\n",
      "26 [4, 2] -0.24\n",
      "27 [4, 3] 0.24\n",
      "28 [4, 4] -0.047\n",
      "29 [4, 5] 0.047\n",
      "30 [5, 0] -0.053\n",
      "31 [5, 1] 0.053\n",
      "32 [5, 2] 0.24\n",
      "33 [5, 3] -0.24\n",
      "34 [5, 4] 0.047\n",
      "35 [5, 5] -0.047\n"
     ]
    }
   ],
   "metadata": {}
  },
  {
   "cell_type": "code",
   "execution_count": 7,
   "source": [
    "#Find decomposition into projectors with smaller number of measurements\r\n",
    "#by changing the measurement basis\r\n",
    "opt_weights, opt_basis = pd.optimized_proj_decomposition(witness, 1e-4)\r\n",
    "opt_proj_operators = pd.spawn_generalized_pauli_projectors(*opt_basis)\r\n",
    "n_opt = sum(np.abs(opt_weights) > 1e-4)\r\n",
    "n_default = sum(np.abs(coefficients) > 1e-4)\r\n",
    "print(\"Optimized projection number:\", n_opt)\r\n",
    "print(\"Original projection number:\", n_default)\r\n",
    "\r\n",
    "#check validity\r\n",
    "witness_check_3 = pd.compose_operator_from_proj_weights(opt_weights, opt_proj_operators)\r\n",
    "print(\"Difference:\", np.sum(witness_check_3 - witness))\r\n",
    "\r\n",
    "#list the measurements, showing only projections above threshold\r\n",
    "for i, w_i in enumerate(opt_weights):\r\n",
    "    if abs(w_i) > 1e-4:\r\n",
    "        print(i, pd.base10_to_base6(i, 2), np.round(w_i.real, 3))"
   ],
   "outputs": [
    {
     "output_type": "stream",
     "name": "stdout",
     "text": [
      "Optimized projection number: 10\n",
      "Original projection number: 36\n",
      "Difference: (2.220446049250313e-16-1.2380527839228254e-18j)\n",
      "1 [0, 1] 0.5\n",
      "6 [1, 0] 0.5\n",
      "14 [2, 2] 0.25\n",
      "15 [2, 3] -0.25\n",
      "20 [3, 2] -0.25\n",
      "21 [3, 3] 0.25\n",
      "28 [4, 4] -0.25\n",
      "29 [4, 5] 0.25\n",
      "34 [5, 4] 0.25\n",
      "35 [5, 5] -0.25\n"
     ]
    }
   ],
   "metadata": {}
  }
 ],
 "metadata": {
  "orig_nbformat": 4,
  "language_info": {
   "name": "python",
   "version": "3.7.1",
   "mimetype": "text/x-python",
   "codemirror_mode": {
    "name": "ipython",
    "version": 3
   },
   "pygments_lexer": "ipython3",
   "nbconvert_exporter": "python",
   "file_extension": ".py"
  },
  "kernelspec": {
   "name": "python3",
   "display_name": "Python 3.7.1 64-bit ('base': conda)"
  },
  "interpreter": {
   "hash": "9edc0e85da01f36cb21954a38b5a549841b5633a9a4527f1fb430ae3c8ff1be1"
  }
 },
 "nbformat": 4,
 "nbformat_minor": 2
}